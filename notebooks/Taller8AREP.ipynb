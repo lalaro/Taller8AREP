{
 "cells": [
  {
   "cell_type": "markdown",
   "id": "44b4bbab-d6c9-42db-9032-04a4031aed43",
   "metadata": {},
   "source": [
    "## Taller 8 AREP\n",
    "\n",
    "Antes de empezar, necesitamos instalar LangChain y las dependencias necesarias. Dependiendo del entorno, en este caso usaremos pip"
   ]
  },
  {
   "cell_type": "code",
   "execution_count": 7,
   "id": "0098a115",
   "metadata": {},
   "outputs": [
    {
     "name": "stdout",
     "output_type": "stream",
     "text": [
      "Requirement already satisfied: langchain in c:\\users\\laura\\appdata\\local\\programs\\python\\python312\\lib\\site-packages (0.3.21)Note: you may need to restart the kernel to use updated packages.\n",
      "\n",
      "Requirement already satisfied: langchain-core<1.0.0,>=0.3.45 in c:\\users\\laura\\appdata\\local\\programs\\python\\python312\\lib\\site-packages (from langchain) (0.3.47)\n",
      "Requirement already satisfied: langchain-text-splitters<1.0.0,>=0.3.7 in c:\\users\\laura\\appdata\\local\\programs\\python\\python312\\lib\\site-packages (from langchain) (0.3.7)\n",
      "Requirement already satisfied: langsmith<0.4,>=0.1.17 in c:\\users\\laura\\appdata\\local\\programs\\python\\python312\\lib\\site-packages (from langchain) (0.3.18)\n",
      "Requirement already satisfied: pydantic<3.0.0,>=2.7.4 in c:\\users\\laura\\appdata\\local\\programs\\python\\python312\\lib\\site-packages (from langchain) (2.10.6)\n",
      "Requirement already satisfied: SQLAlchemy<3,>=1.4 in c:\\users\\laura\\appdata\\local\\programs\\python\\python312\\lib\\site-packages (from langchain) (2.0.39)\n",
      "Requirement already satisfied: requests<3,>=2 in c:\\users\\laura\\appdata\\local\\programs\\python\\python312\\lib\\site-packages (from langchain) (2.32.3)\n",
      "Requirement already satisfied: PyYAML>=5.3 in c:\\users\\laura\\appdata\\local\\programs\\python\\python312\\lib\\site-packages (from langchain) (6.0.2)\n",
      "Requirement already satisfied: tenacity!=8.4.0,<10.0.0,>=8.1.0 in c:\\users\\laura\\appdata\\local\\programs\\python\\python312\\lib\\site-packages (from langchain-core<1.0.0,>=0.3.45->langchain) (9.0.0)\n",
      "Requirement already satisfied: jsonpatch<2.0,>=1.33 in c:\\users\\laura\\appdata\\local\\programs\\python\\python312\\lib\\site-packages (from langchain-core<1.0.0,>=0.3.45->langchain) (1.33)\n",
      "Requirement already satisfied: packaging<25,>=23.2 in c:\\users\\laura\\appdata\\roaming\\python\\python312\\site-packages (from langchain-core<1.0.0,>=0.3.45->langchain) (23.2)\n",
      "Requirement already satisfied: typing-extensions>=4.7 in c:\\users\\laura\\appdata\\local\\programs\\python\\python312\\lib\\site-packages (from langchain-core<1.0.0,>=0.3.45->langchain) (4.12.2)\n",
      "Requirement already satisfied: httpx<1,>=0.23.0 in c:\\users\\laura\\appdata\\local\\programs\\python\\python312\\lib\\site-packages (from langsmith<0.4,>=0.1.17->langchain) (0.28.1)\n",
      "Requirement already satisfied: orjson<4.0.0,>=3.9.14 in c:\\users\\laura\\appdata\\local\\programs\\python\\python312\\lib\\site-packages (from langsmith<0.4,>=0.1.17->langchain) (3.10.15)\n",
      "Requirement already satisfied: requests-toolbelt<2.0.0,>=1.0.0 in c:\\users\\laura\\appdata\\local\\programs\\python\\python312\\lib\\site-packages (from langsmith<0.4,>=0.1.17->langchain) (1.0.0)\n",
      "Requirement already satisfied: zstandard<0.24.0,>=0.23.0 in c:\\users\\laura\\appdata\\local\\programs\\python\\python312\\lib\\site-packages (from langsmith<0.4,>=0.1.17->langchain) (0.23.0)\n",
      "Requirement already satisfied: annotated-types>=0.6.0 in c:\\users\\laura\\appdata\\local\\programs\\python\\python312\\lib\\site-packages (from pydantic<3.0.0,>=2.7.4->langchain) (0.7.0)\n",
      "Requirement already satisfied: pydantic-core==2.27.2 in c:\\users\\laura\\appdata\\local\\programs\\python\\python312\\lib\\site-packages (from pydantic<3.0.0,>=2.7.4->langchain) (2.27.2)\n",
      "Requirement already satisfied: charset-normalizer<4,>=2 in c:\\users\\laura\\appdata\\local\\programs\\python\\python312\\lib\\site-packages (from requests<3,>=2->langchain) (3.4.1)\n",
      "Requirement already satisfied: idna<4,>=2.5 in c:\\users\\laura\\appdata\\local\\programs\\python\\python312\\lib\\site-packages (from requests<3,>=2->langchain) (3.10)\n",
      "Requirement already satisfied: urllib3<3,>=1.21.1 in c:\\users\\laura\\appdata\\local\\programs\\python\\python312\\lib\\site-packages (from requests<3,>=2->langchain) (2.3.0)\n",
      "Requirement already satisfied: certifi>=2017.4.17 in c:\\users\\laura\\appdata\\local\\programs\\python\\python312\\lib\\site-packages (from requests<3,>=2->langchain) (2025.1.31)\n",
      "Requirement already satisfied: greenlet!=0.4.17 in c:\\users\\laura\\appdata\\local\\programs\\python\\python312\\lib\\site-packages (from SQLAlchemy<3,>=1.4->langchain) (3.1.1)\n",
      "Requirement already satisfied: anyio in c:\\users\\laura\\appdata\\local\\programs\\python\\python312\\lib\\site-packages (from httpx<1,>=0.23.0->langsmith<0.4,>=0.1.17->langchain) (4.9.0)\n",
      "Requirement already satisfied: httpcore==1.* in c:\\users\\laura\\appdata\\local\\programs\\python\\python312\\lib\\site-packages (from httpx<1,>=0.23.0->langsmith<0.4,>=0.1.17->langchain) (1.0.7)\n",
      "Requirement already satisfied: h11<0.15,>=0.13 in c:\\users\\laura\\appdata\\local\\programs\\python\\python312\\lib\\site-packages (from httpcore==1.*->httpx<1,>=0.23.0->langsmith<0.4,>=0.1.17->langchain) (0.14.0)\n",
      "Requirement already satisfied: jsonpointer>=1.9 in c:\\users\\laura\\appdata\\local\\programs\\python\\python312\\lib\\site-packages (from jsonpatch<2.0,>=1.33->langchain-core<1.0.0,>=0.3.45->langchain) (3.0.0)\n",
      "Requirement already satisfied: sniffio>=1.1 in c:\\users\\laura\\appdata\\local\\programs\\python\\python312\\lib\\site-packages (from anyio->httpx<1,>=0.23.0->langsmith<0.4,>=0.1.17->langchain) (1.3.1)\n"
     ]
    }
   ],
   "source": [
    "pip install langchain"
   ]
  },
  {
   "cell_type": "markdown",
   "id": "c6ab300b",
   "metadata": {},
   "source": [
    "# Configuramos LangSmith\n",
    "LangSmith permite realizar trazabilidad y depuración de las llamadas a modelos de lenguaje."
   ]
  },
  {
   "cell_type": "code",
   "execution_count": null,
   "id": "8bf834c8",
   "metadata": {},
   "outputs": [],
   "source": [
    "import getpass\n",
    "import os\n",
    "\n",
    "os.environ[\"LANGSMITH_API_KEY\"] = \"KEY\""
   ]
  },
  {
   "cell_type": "markdown",
   "id": "acd39950",
   "metadata": {},
   "source": [
    "LangChain con integraciones específicas para OpenAI:"
   ]
  },
  {
   "cell_type": "code",
   "execution_count": 1,
   "id": "f0394528",
   "metadata": {},
   "outputs": [
    {
     "name": "stdout",
     "output_type": "stream",
     "text": [
      "Note: you may need to restart the kernel to use updated packages.\n"
     ]
    }
   ],
   "source": [
    "pip install -qU \"langchain[openai]\""
   ]
  },
  {
   "cell_type": "markdown",
   "id": "f6e93509",
   "metadata": {},
   "source": [
    "## Configuración de langSmith\n",
    "\n",
    "LangSmith permite realizar trazabilidad y depuración de las llamadas a modelos de lenguaje."
   ]
  },
  {
   "cell_type": "code",
   "execution_count": null,
   "id": "7425d013",
   "metadata": {},
   "outputs": [],
   "source": [
    "import getpass\n",
    "import os\n",
    "\n",
    "if not os.environ.get(\"OPENAI_API_KEY\"):\n",
    "  os.environ[\"OPENAI_API_KEY\"] = getpass.getpass(\"Enter API key for OpenAI: \")\n",
    "\n",
    "from langchain.chat_models import init_chat_model\n",
    "\n",
    "model = init_chat_model(\"gpt-4o-mini\", model_provider=\"openai\")"
   ]
  },
  {
   "cell_type": "markdown",
   "id": "2c4fd395",
   "metadata": {},
   "source": [
    "Luego, podemos realizar una llamada al modelo:"
   ]
  },
  {
   "cell_type": "code",
   "execution_count": null,
   "id": "cdceea1c",
   "metadata": {},
   "outputs": [],
   "source": [
    "from langchain_core.messages import HumanMessage, SystemMessage\n",
    "\n",
    "messages = [\n",
    "    SystemMessage(\"Translate the following from English into Italian\"),\n",
    "    HumanMessage(\"hi!\"),\n",
    "]\n",
    "\n",
    "model.invoke(messages)"
   ]
  },
  {
   "cell_type": "markdown",
   "id": "303d9b01",
   "metadata": {},
   "source": [
    "Otras alternativas:"
   ]
  },
  {
   "cell_type": "code",
   "execution_count": null,
   "id": "a527542a",
   "metadata": {},
   "outputs": [],
   "source": [
    "model.invoke(\"Hello\")\n",
    "\n",
    "model.invoke([{\"role\": \"user\", \"content\": \"Hello\"}])\n",
    "\n",
    "model.invoke([HumanMessage(\"Hello\")])"
   ]
  },
  {
   "cell_type": "markdown",
   "id": "f2f64a6f",
   "metadata": {},
   "source": [
    "# Streaming de Respuestas\n",
    "Para procesar la salida en tiempo real:"
   ]
  },
  {
   "cell_type": "code",
   "execution_count": null,
   "id": "313030eb",
   "metadata": {},
   "outputs": [],
   "source": [
    "for token in model.stream(messages):\n",
    "    print(token.content, end=\"|\")"
   ]
  },
  {
   "cell_type": "markdown",
   "id": "5ce910ed",
   "metadata": {},
   "source": [
    "## Uso de Prompt Templates\n",
    "\n",
    "Las plantillas de prompts permiten transformar la entrada del usuario en un formato adecuado para el modelo."
   ]
  },
  {
   "cell_type": "code",
   "execution_count": null,
   "id": "659ae200",
   "metadata": {},
   "outputs": [],
   "source": [
    "model.invoke(\"Hello\")\n",
    "\n",
    "model.invoke([{\"role\": \"user\", \"content\": \"Hello\"}])\n",
    "\n",
    "model.invoke([HumanMessage(\"Hello\")])"
   ]
  },
  {
   "cell_type": "markdown",
   "id": "cbb8badb",
   "metadata": {},
   "source": [
    "## Streaming de Respuestas\n",
    "\n",
    "Para procesar la salida en tiempo real:"
   ]
  },
  {
   "cell_type": "code",
   "execution_count": null,
   "id": "ae835d06-f4fb-4492-b85f-a76a13e27e8c",
   "metadata": {},
   "outputs": [],
   "source": [
    "from langchain_core.prompts import ChatPromptTemplate\n",
    "\n",
    "system_template = \"Translate the following from English into {language}\"\n",
    "\n",
    "prompt_template = ChatPromptTemplate.from_messages([\n",
    "    (\"system\", system_template),\n",
    "    (\"user\", \"{text}\")\n",
    "])"
   ]
  },
  {
   "cell_type": "markdown",
   "id": "904c639c",
   "metadata": {},
   "source": [
    "Luego, se puede invocar la plantilla con variables:"
   ]
  },
  {
   "cell_type": "code",
   "execution_count": null,
   "id": "045ade34",
   "metadata": {},
   "outputs": [],
   "source": [
    "prompt = prompt_template.invoke({\"language\": \"Italian\", \"text\": \"hi!\"})\n",
    "print(prompt.to_messages())"
   ]
  },
  {
   "cell_type": "markdown",
   "id": "379393bb",
   "metadata": {},
   "source": [
    "Finalmente, pasamos la plantilla al modelo:"
   ]
  },
  {
   "cell_type": "code",
   "execution_count": null,
   "id": "3c1f503d",
   "metadata": {},
   "outputs": [],
   "source": [
    "response = model.invoke(prompt)\n",
    "print(response.content)"
   ]
  },
  {
   "cell_type": "markdown",
   "id": "c513f813",
   "metadata": {},
   "source": [
    "Este README cubre la configuración y el uso básico de LangChain con modelos de lenguaje. Se expandir esta base integrando herramientas como LangSmith, múltiples modelos, y construyendo flujos más complejos con LangChain Agents y Chains."
   ]
  },
  {
   "cell_type": "markdown",
   "id": "d53256eb",
   "metadata": {},
   "source": [
    "# Herramientas utilizadas en este proyecto\n",
    "\n",
    "1. Lenguaje: Python\n",
    "2. Frameworks y librerías: LangChain, OpenAI, LangSmith\n",
    "3. Dependencias clave: langchain_core, langchain, openai\n",
    "4. Gestión de claves API: getpass, os\n",
    "\n",
    "# Desarrollado por : Laura Valentina Rodríguez Ortegón"
   ]
  }
 ],
 "metadata": {
  "kernelspec": {
   "display_name": "Python 3",
   "language": "python",
   "name": "python3"
  },
  "language_info": {
   "codemirror_mode": {
    "name": "ipython",
    "version": 3
   },
   "file_extension": ".py",
   "mimetype": "text/x-python",
   "name": "python",
   "nbconvert_exporter": "python",
   "pygments_lexer": "ipython3",
   "version": "3.12.0"
  }
 },
 "nbformat": 4,
 "nbformat_minor": 5
}
